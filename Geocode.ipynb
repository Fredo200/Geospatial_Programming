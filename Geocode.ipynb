{
 "cells": [
  {
   "cell_type": "code",
   "execution_count": null,
   "id": "2a43742c-4e2f-4671-bdc9-d63d893a1dba",
   "metadata": {},
   "outputs": [],
   "source": [
    "import os\n",
    "import pandas as pd\n",
    "import geopandas as gpd"
   ]
  },
  {
   "cell_type": "code",
   "execution_count": null,
   "id": "eacdef66-a298-49ea-b4d4-41c058a5f3a6",
   "metadata": {},
   "outputs": [],
   "source": [
    "data_pkg_path = 'data/geonames/'\n",
    "filename = 'KE.txt'\n",
    "path = os.path.join(data_pkg_path, filename)"
   ]
  },
  {
   "cell_type": "code",
   "execution_count": null,
   "id": "53217c81-22cd-4e04-b015-be6302c38b71",
   "metadata": {},
   "outputs": [],
   "source": [
    "column_names = [\n",
    "    'geonameid', 'name', 'asciiname', 'alternatenames',\n",
    "    'latitude', 'longitude', 'feature class', 'feature code',\n",
    "    'country code', 'cc2', 'admin1 code', 'admin2 code',\n",
    "    'admin3 code', 'admin4 code', 'population', 'elevation',\n",
    "    'dem', 'timezone', 'modification date'\n",
    "]\n",
    "\n",
    "df = pd.read_csv(path, sep='\\t', names=column_names)\n",
    "print(df.info())"
   ]
  },
  {
   "cell_type": "code",
   "execution_count": null,
   "id": "0e6650ce-95ca-49bd-951b-1d187de2408c",
   "metadata": {},
   "outputs": [],
   "source": [
    "city = df[df['feature class']=='L']\n",
    "print(city.head()[['name', 'latitude', 'longitude', 'dem', 'feature class']])"
   ]
  },
  {
   "cell_type": "code",
   "execution_count": null,
   "id": "bb8ed10a-0ebf-4785-816a-2f24f00d7dbf",
   "metadata": {},
   "outputs": [],
   "source": [
    "geometry = gpd.points_from_xy(city.longitude, city.latitude)\n",
    "gdf = gpd.GeoDataFrame(city, crs='EPSG:4326', geometry=geometry)\n",
    "print(gdf.info())"
   ]
  },
  {
   "cell_type": "code",
   "execution_count": null,
   "id": "85c73a20-50b1-420f-ad5c-1b2e758cc54a",
   "metadata": {},
   "outputs": [],
   "source": [
    "output_dir = 'output'\n",
    "output_filename = 'city.shp'\n",
    "output_path = os.path.join(output_dir, output_filename)\n",
    "\n",
    "gdf.to_file(filename=output_path, encoding='utf-8')\n",
    "print('Successfully written output file at {}'.format(output_path))"
   ]
  },
  {
   "cell_type": "code",
   "execution_count": null,
   "id": "ab5cf6a2-365a-4f78-9595-831014d1001a",
   "metadata": {},
   "outputs": [],
   "source": []
  }
 ],
 "metadata": {
  "kernelspec": {
   "display_name": "Python 3 (ipykernel)",
   "language": "python",
   "name": "python3"
  },
  "language_info": {
   "codemirror_mode": {
    "name": "ipython",
    "version": 3
   },
   "file_extension": ".py",
   "mimetype": "text/x-python",
   "name": "python",
   "nbconvert_exporter": "python",
   "pygments_lexer": "ipython3",
   "version": "3.12.4"
  }
 },
 "nbformat": 4,
 "nbformat_minor": 5
}
