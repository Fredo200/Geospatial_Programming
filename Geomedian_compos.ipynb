{
 "cells": [
  {
   "cell_type": "code",
   "execution_count": 1,
   "id": "8cbba902-327d-4fb4-b63c-dccfcacb0bea",
   "metadata": {},
   "outputs": [],
   "source": [
    "%matplotlib inline\n",
    "\n",
    "import datacube\n",
    "\n",
    "from deafrica_tools.datahandling import load_ard\n",
    "from deafrica_tools.plotting import rgb\n",
    "from deafrica_tools.plotting import display_map\n",
    "from odc.algo import xr_geomedian"
   ]
  },
  {
   "cell_type": "code",
   "execution_count": 2,
   "id": "dcc7ba78-2bbe-462c-b523-4cd35c85ad26",
   "metadata": {},
   "outputs": [],
   "source": [
    "dc = datacube.Datacube(\"Geomedian_composite\")"
   ]
  },
  {
   "cell_type": "code",
   "execution_count": null,
   "id": "b49ae954-04d4-4ae5-9be0-a862aad91e8c",
   "metadata": {},
   "outputs": [],
   "source": []
  }
 ],
 "metadata": {
  "kernelspec": {
   "display_name": "Python 3 (ipykernel)",
   "language": "python",
   "name": "python3"
  },
  "language_info": {
   "codemirror_mode": {
    "name": "ipython",
    "version": 3
   },
   "file_extension": ".py",
   "mimetype": "text/x-python",
   "name": "python",
   "nbconvert_exporter": "python",
   "pygments_lexer": "ipython3",
   "version": "3.10.12"
  }
 },
 "nbformat": 4,
 "nbformat_minor": 5
}
