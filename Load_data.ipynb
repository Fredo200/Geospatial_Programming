{
 "cells": [
  {
   "cell_type": "code",
   "execution_count": null,
   "id": "996486c3-4a23-4746-bb78-325e725943de",
   "metadata": {},
   "outputs": [],
   "source": [
    "%matplotlib inline\n",
    "\n",
    "import datacube\n",
    "\n",
    "from deafrica_tools.plotting import rgb\n",
    "from deafrica_tools.plotting import display_map"
   ]
  },
  {
   "cell_type": "code",
   "execution_count": null,
   "id": "12389b6e-53b3-4e38-ac4f-43f1ddedc6ed",
   "metadata": {},
   "outputs": [],
   "source": [
    "dc = datacube.Datacube(app=\"Load_data\")"
   ]
  },
  {
   "cell_type": "code",
   "execution_count": null,
   "id": "aad80ae9-1845-403c-aa1c-a91142d4ecf0",
   "metadata": {},
   "outputs": [],
   "source": [
    "x = (39.20, 39.37)\n",
    "y = (-6.90, -6.70)\n",
    "\n",
    "display_map(x, y)"
   ]
  },
  {
   "cell_type": "code",
   "execution_count": null,
   "id": "f7af218c-a750-43a3-95ce-c948bfa4e651",
   "metadata": {},
   "outputs": [],
   "source": [
    "landsat_ds = dc.load (\n",
    "    product=\"ls8_sr\", \n",
    "    x=(39.20, 39.37),\n",
    "    y=(-6.90, -6.70),\n",
    "    time=(\"2018-01-01\", \"2018-12-31\"),\n",
    "    output_crs=\"EPSG:6933\",\n",
    "    resolution=(-30, 30),\n",
    "    group_by=\"solar_day\",\n",
    "    measurements=[\"red\", \"green\", \"blue\"])"
   ]
  },
  {
   "cell_type": "code",
   "execution_count": null,
   "id": "fb107f45-5a64-4c1f-8d07-3b95ea1db951",
   "metadata": {},
   "outputs": [],
   "source": [
    "landsat_ds"
   ]
  },
  {
   "cell_type": "code",
   "execution_count": null,
   "id": "71780350-a825-4e48-8a15-20eb83ff387c",
   "metadata": {},
   "outputs": [],
   "source": [
    "rgb(landsat_ds, bands=['red', 'green', 'blue'], index=2, size=10)"
   ]
  },
  {
   "cell_type": "code",
   "execution_count": null,
   "id": "cb645e1e-3a4a-4720-8cf4-1579e62b4bff",
   "metadata": {},
   "outputs": [],
   "source": []
  }
 ],
 "metadata": {
  "kernelspec": {
   "display_name": "Python 3 (ipykernel)",
   "language": "python",
   "name": "python3"
  },
  "language_info": {
   "codemirror_mode": {
    "name": "ipython",
    "version": 3
   },
   "file_extension": ".py",
   "mimetype": "text/x-python",
   "name": "python",
   "nbconvert_exporter": "python",
   "pygments_lexer": "ipython3",
   "version": "3.10.12"
  }
 },
 "nbformat": 4,
 "nbformat_minor": 5
}
