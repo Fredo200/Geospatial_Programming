{
 "cells": [
  {
   "cell_type": "code",
   "execution_count": null,
   "id": "82b1aa8f-8cde-4ae5-911f-f2e91daf2897",
   "metadata": {},
   "outputs": [],
   "source": [
    "%matplotlib inline\n",
    "\n",
    "import datacube\n",
    "from deafrica_tools.app.crophealth import load_crophealth_data\n",
    "from deafrica_tools.app.crophealth import run_crophealth_app"
   ]
  },
  {
   "cell_type": "code",
   "execution_count": null,
   "id": "1cbfc5b8-fb16-4e76-838f-45223f9aa1a5",
   "metadata": {},
   "outputs": [],
   "source": [
    "#inserting AOI\n",
    "lat = -0.483689\n",
    "lon = 34.193792\n",
    "buffer = 0.005\n",
    "date = '2019-07-01'"
   ]
  },
  {
   "cell_type": "code",
   "execution_count": null,
   "id": "430ffe36-774c-43a3-9d2a-6bcbd547f8ca",
   "metadata": {},
   "outputs": [],
   "source": [
    "dataset = load_crophealth_data(lat, lon, buffer, date)"
   ]
  },
  {
   "cell_type": "code",
   "execution_count": null,
   "id": "ddac1643-e769-4aa9-8c3d-9aa6dd27c951",
   "metadata": {},
   "outputs": [],
   "source": [
    "run_crophealth_app(dataset, lat, lon, buffer)"
   ]
  },
  {
   "cell_type": "code",
   "execution_count": null,
   "id": "d14bb6ff-3619-4966-a86f-40b1faaa5e99",
   "metadata": {},
   "outputs": [],
   "source": []
  }
 ],
 "metadata": {
  "kernelspec": {
   "display_name": "Python 3 (ipykernel)",
   "language": "python",
   "name": "python3"
  },
  "language_info": {
   "codemirror_mode": {
    "name": "ipython",
    "version": 3
   },
   "file_extension": ".py",
   "mimetype": "text/x-python",
   "name": "python",
   "nbconvert_exporter": "python",
   "pygments_lexer": "ipython3",
   "version": "3.10.12"
  }
 },
 "nbformat": 4,
 "nbformat_minor": 5
}
