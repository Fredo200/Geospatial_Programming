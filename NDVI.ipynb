{
 "cells": [
  {
   "cell_type": "code",
   "execution_count": 1,
   "id": "82b1aa8f-8cde-4ae5-911f-f2e91daf2897",
   "metadata": {},
   "outputs": [],
   "source": [
    "%matplotlib inline\n",
    "\n",
    "import datacube\n",
    "from deafrica_tools.app.crophealth import load_crophealth_data\n",
    "from deafrica_tools.app.crophealth import run_crophealth_app"
   ]
  },
  {
   "cell_type": "code",
   "execution_count": 2,
   "id": "1cbfc5b8-fb16-4e76-838f-45223f9aa1a5",
   "metadata": {},
   "outputs": [],
   "source": [
    "#inserting AOI\n",
    "lat = -0.18990\n",
    "lon = 34.81347\n",
    "buffer = 0.005\n",
    "date = '2024-01-01'"
   ]
  },
  {
   "cell_type": "code",
   "execution_count": 3,
   "id": "430ffe36-774c-43a3-9d2a-6bcbd547f8ca",
   "metadata": {},
   "outputs": [
    {
     "name": "stdout",
     "output_type": "stream",
     "text": [
      "Using pixel quality parameters for Sentinel 2\n",
      "Finding datasets\n",
      "    s2_l2a\n",
      "Counting good quality pixels for each time step\n",
      "Filtering to 190 out of 288 time steps with at least 50.0% good quality pixels\n",
      "Applying pixel quality/cloud mask\n",
      "Loading 190 time steps\n"
     ]
    }
   ],
   "source": [
    "dataset = load_crophealth_data(lat, lon, buffer, date)"
   ]
  },
  {
   "cell_type": "code",
   "execution_count": 4,
   "id": "ddac1643-e769-4aa9-8c3d-9aa6dd27c951",
   "metadata": {},
   "outputs": [
    {
     "data": {
      "application/vnd.jupyter.widget-view+json": {
       "model_id": "2ef4db31c0294a1694f1e68a55adecf5",
       "version_major": 2,
       "version_minor": 0
      },
      "text/plain": [
       "VBox(children=(Output(layout=Layout(border_bottom='1px solid black', border_left='1px solid black', border_rig…"
      ]
     },
     "metadata": {},
     "output_type": "display_data"
    }
   ],
   "source": [
    "run_crophealth_app(dataset, lat, lon, buffer)"
   ]
  },
  {
   "cell_type": "code",
   "execution_count": null,
   "id": "d14bb6ff-3619-4966-a86f-40b1faaa5e99",
   "metadata": {},
   "outputs": [],
   "source": []
  }
 ],
 "metadata": {
  "kernelspec": {
   "display_name": "Python 3 (ipykernel)",
   "language": "python",
   "name": "python3"
  },
  "language_info": {
   "codemirror_mode": {
    "name": "ipython",
    "version": 3
   },
   "file_extension": ".py",
   "mimetype": "text/x-python",
   "name": "python",
   "nbconvert_exporter": "python",
   "pygments_lexer": "ipython3",
   "version": "3.10.12"
  }
 },
 "nbformat": 4,
 "nbformat_minor": 5
}
